{
  "nbformat": 4,
  "nbformat_minor": 0,
  "metadata": {
    "colab": {
      "name": "airbnb.ipynb",
      "version": "0.3.2",
      "provenance": [],
      "collapsed_sections": []
    },
    "kernelspec": {
      "name": "python3",
      "display_name": "Python 3"
    }
  },
  "cells": [
    {
      "cell_type": "code",
      "metadata": {
        "id": "axMTzS7sorkG",
        "colab_type": "code",
        "colab": {}
      },
      "source": [
        "import numpy as np\n",
        "import pandas as pd\n",
        "import matplotlib.pyplot as plt"
      ],
      "execution_count": 0,
      "outputs": []
    },
    {
      "cell_type": "code",
      "metadata": {
        "id": "h8Z4F3byoyAy",
        "colab_type": "code",
        "colab": {
          "base_uri": "https://localhost:8080/",
          "height": 221
        },
        "outputId": "118c761b-4a59-4258-859d-93e41618cc89"
      },
      "source": [
        "!pip install kaggle\n",
        "!mkdir -p ~/.kaggle\n",
        "\n",
        "!cp kaggle.json ~/.kaggle/"
      ],
      "execution_count": 3,
      "outputs": [
        {
          "output_type": "stream",
          "text": [
            "Requirement already satisfied: kaggle in /usr/local/lib/python3.6/dist-packages (1.5.4)\n",
            "Requirement already satisfied: python-slugify in /usr/local/lib/python3.6/dist-packages (from kaggle) (3.0.2)\n",
            "Requirement already satisfied: requests in /usr/local/lib/python3.6/dist-packages (from kaggle) (2.21.0)\n",
            "Requirement already satisfied: urllib3<1.25,>=1.21.1 in /usr/local/lib/python3.6/dist-packages (from kaggle) (1.24.3)\n",
            "Requirement already satisfied: certifi in /usr/local/lib/python3.6/dist-packages (from kaggle) (2019.3.9)\n",
            "Requirement already satisfied: six>=1.10 in /usr/local/lib/python3.6/dist-packages (from kaggle) (1.12.0)\n",
            "Requirement already satisfied: python-dateutil in /usr/local/lib/python3.6/dist-packages (from kaggle) (2.5.3)\n",
            "Requirement already satisfied: tqdm in /usr/local/lib/python3.6/dist-packages (from kaggle) (4.28.1)\n",
            "Requirement already satisfied: text-unidecode==1.2 in /usr/local/lib/python3.6/dist-packages (from python-slugify->kaggle) (1.2)\n",
            "Requirement already satisfied: idna<2.9,>=2.5 in /usr/local/lib/python3.6/dist-packages (from requests->kaggle) (2.8)\n",
            "Requirement already satisfied: chardet<3.1.0,>=3.0.2 in /usr/local/lib/python3.6/dist-packages (from requests->kaggle) (3.0.4)\n"
          ],
          "name": "stdout"
        }
      ]
    },
    {
      "cell_type": "code",
      "metadata": {
        "id": "-LNdF_yNoyyA",
        "colab_type": "code",
        "colab": {
          "base_uri": "https://localhost:8080/",
          "height": 104
        },
        "outputId": "0595b2ab-94fa-44a7-d113-aa4c7c0271be"
      },
      "source": [
        "!kaggle datasets download -d stevezhenghp/airbnb-price-prediction"
      ],
      "execution_count": 4,
      "outputs": [
        {
          "output_type": "stream",
          "text": [
            "Warning: Your Kaggle API key is readable by other users on this system! To fix this, you can run 'chmod 600 /root/.kaggle/kaggle.json'\n",
            "Downloading airbnb-price-prediction.zip to /content\n",
            " 80% 25.0M/31.3M [00:00<00:00, 57.4MB/s]\n",
            "100% 31.3M/31.3M [00:00<00:00, 70.6MB/s]\n"
          ],
          "name": "stdout"
        }
      ]
    },
    {
      "cell_type": "code",
      "metadata": {
        "id": "usFtZ-fzrqgE",
        "colab_type": "code",
        "colab": {
          "base_uri": "https://localhost:8080/",
          "height": 50
        },
        "outputId": "39de493a-b485-4c20-c5bf-40b287358592"
      },
      "source": [
        "!unzip airbnb-price-prediction.zip"
      ],
      "execution_count": 5,
      "outputs": [
        {
          "output_type": "stream",
          "text": [
            "Archive:  airbnb-price-prediction.zip\n",
            "  inflating: train.csv               \n"
          ],
          "name": "stdout"
        }
      ]
    },
    {
      "cell_type": "code",
      "metadata": {
        "id": "5kIK3WYNr_vq",
        "colab_type": "code",
        "colab": {
          "base_uri": "https://localhost:8080/",
          "height": 551
        },
        "outputId": "fa8f500a-b85f-4ef0-a656-36b8f62a09ac"
      },
      "source": [
        "dataset = pd.read_csv(\"train.csv\")\n",
        "dataset.head()"
      ],
      "execution_count": 6,
      "outputs": [
        {
          "output_type": "execute_result",
          "data": {
            "text/html": [
              "<div>\n",
              "<style scoped>\n",
              "    .dataframe tbody tr th:only-of-type {\n",
              "        vertical-align: middle;\n",
              "    }\n",
              "\n",
              "    .dataframe tbody tr th {\n",
              "        vertical-align: top;\n",
              "    }\n",
              "\n",
              "    .dataframe thead th {\n",
              "        text-align: right;\n",
              "    }\n",
              "</style>\n",
              "<table border=\"1\" class=\"dataframe\">\n",
              "  <thead>\n",
              "    <tr style=\"text-align: right;\">\n",
              "      <th></th>\n",
              "      <th>id</th>\n",
              "      <th>log_price</th>\n",
              "      <th>property_type</th>\n",
              "      <th>room_type</th>\n",
              "      <th>amenities</th>\n",
              "      <th>accommodates</th>\n",
              "      <th>bathrooms</th>\n",
              "      <th>bed_type</th>\n",
              "      <th>cancellation_policy</th>\n",
              "      <th>cleaning_fee</th>\n",
              "      <th>city</th>\n",
              "      <th>description</th>\n",
              "      <th>first_review</th>\n",
              "      <th>host_has_profile_pic</th>\n",
              "      <th>host_identity_verified</th>\n",
              "      <th>host_response_rate</th>\n",
              "      <th>host_since</th>\n",
              "      <th>instant_bookable</th>\n",
              "      <th>last_review</th>\n",
              "      <th>latitude</th>\n",
              "      <th>longitude</th>\n",
              "      <th>name</th>\n",
              "      <th>neighbourhood</th>\n",
              "      <th>number_of_reviews</th>\n",
              "      <th>review_scores_rating</th>\n",
              "      <th>thumbnail_url</th>\n",
              "      <th>zipcode</th>\n",
              "      <th>bedrooms</th>\n",
              "      <th>beds</th>\n",
              "    </tr>\n",
              "  </thead>\n",
              "  <tbody>\n",
              "    <tr>\n",
              "      <th>0</th>\n",
              "      <td>6901257</td>\n",
              "      <td>5.010635</td>\n",
              "      <td>Apartment</td>\n",
              "      <td>Entire home/apt</td>\n",
              "      <td>{\"Wireless Internet\",\"Air conditioning\",Kitche...</td>\n",
              "      <td>3</td>\n",
              "      <td>1.0</td>\n",
              "      <td>Real Bed</td>\n",
              "      <td>strict</td>\n",
              "      <td>True</td>\n",
              "      <td>NYC</td>\n",
              "      <td>Beautiful, sunlit brownstone 1-bedroom in the ...</td>\n",
              "      <td>2016-06-18</td>\n",
              "      <td>t</td>\n",
              "      <td>t</td>\n",
              "      <td>NaN</td>\n",
              "      <td>2012-03-26</td>\n",
              "      <td>f</td>\n",
              "      <td>2016-07-18</td>\n",
              "      <td>40.696524</td>\n",
              "      <td>-73.991617</td>\n",
              "      <td>Beautiful brownstone 1-bedroom</td>\n",
              "      <td>Brooklyn Heights</td>\n",
              "      <td>2</td>\n",
              "      <td>100.0</td>\n",
              "      <td>https://a0.muscache.com/im/pictures/6d7cbbf7-c...</td>\n",
              "      <td>11201</td>\n",
              "      <td>1.0</td>\n",
              "      <td>1.0</td>\n",
              "    </tr>\n",
              "    <tr>\n",
              "      <th>1</th>\n",
              "      <td>6304928</td>\n",
              "      <td>5.129899</td>\n",
              "      <td>Apartment</td>\n",
              "      <td>Entire home/apt</td>\n",
              "      <td>{\"Wireless Internet\",\"Air conditioning\",Kitche...</td>\n",
              "      <td>7</td>\n",
              "      <td>1.0</td>\n",
              "      <td>Real Bed</td>\n",
              "      <td>strict</td>\n",
              "      <td>True</td>\n",
              "      <td>NYC</td>\n",
              "      <td>Enjoy travelling during your stay in Manhattan...</td>\n",
              "      <td>2017-08-05</td>\n",
              "      <td>t</td>\n",
              "      <td>f</td>\n",
              "      <td>100%</td>\n",
              "      <td>2017-06-19</td>\n",
              "      <td>t</td>\n",
              "      <td>2017-09-23</td>\n",
              "      <td>40.766115</td>\n",
              "      <td>-73.989040</td>\n",
              "      <td>Superb 3BR Apt Located Near Times Square</td>\n",
              "      <td>Hell's Kitchen</td>\n",
              "      <td>6</td>\n",
              "      <td>93.0</td>\n",
              "      <td>https://a0.muscache.com/im/pictures/348a55fe-4...</td>\n",
              "      <td>10019</td>\n",
              "      <td>3.0</td>\n",
              "      <td>3.0</td>\n",
              "    </tr>\n",
              "    <tr>\n",
              "      <th>2</th>\n",
              "      <td>7919400</td>\n",
              "      <td>4.976734</td>\n",
              "      <td>Apartment</td>\n",
              "      <td>Entire home/apt</td>\n",
              "      <td>{TV,\"Cable TV\",\"Wireless Internet\",\"Air condit...</td>\n",
              "      <td>5</td>\n",
              "      <td>1.0</td>\n",
              "      <td>Real Bed</td>\n",
              "      <td>moderate</td>\n",
              "      <td>True</td>\n",
              "      <td>NYC</td>\n",
              "      <td>The Oasis comes complete with a full backyard ...</td>\n",
              "      <td>2017-04-30</td>\n",
              "      <td>t</td>\n",
              "      <td>t</td>\n",
              "      <td>100%</td>\n",
              "      <td>2016-10-25</td>\n",
              "      <td>t</td>\n",
              "      <td>2017-09-14</td>\n",
              "      <td>40.808110</td>\n",
              "      <td>-73.943756</td>\n",
              "      <td>The Garden Oasis</td>\n",
              "      <td>Harlem</td>\n",
              "      <td>10</td>\n",
              "      <td>92.0</td>\n",
              "      <td>https://a0.muscache.com/im/pictures/6fae5362-9...</td>\n",
              "      <td>10027</td>\n",
              "      <td>1.0</td>\n",
              "      <td>3.0</td>\n",
              "    </tr>\n",
              "    <tr>\n",
              "      <th>3</th>\n",
              "      <td>13418779</td>\n",
              "      <td>6.620073</td>\n",
              "      <td>House</td>\n",
              "      <td>Entire home/apt</td>\n",
              "      <td>{TV,\"Cable TV\",Internet,\"Wireless Internet\",Ki...</td>\n",
              "      <td>4</td>\n",
              "      <td>1.0</td>\n",
              "      <td>Real Bed</td>\n",
              "      <td>flexible</td>\n",
              "      <td>True</td>\n",
              "      <td>SF</td>\n",
              "      <td>This light-filled home-away-from-home is super...</td>\n",
              "      <td>NaN</td>\n",
              "      <td>t</td>\n",
              "      <td>t</td>\n",
              "      <td>NaN</td>\n",
              "      <td>2015-04-19</td>\n",
              "      <td>f</td>\n",
              "      <td>NaN</td>\n",
              "      <td>37.772004</td>\n",
              "      <td>-122.431619</td>\n",
              "      <td>Beautiful Flat in the Heart of SF!</td>\n",
              "      <td>Lower Haight</td>\n",
              "      <td>0</td>\n",
              "      <td>NaN</td>\n",
              "      <td>https://a0.muscache.com/im/pictures/72208dad-9...</td>\n",
              "      <td>94117.0</td>\n",
              "      <td>2.0</td>\n",
              "      <td>2.0</td>\n",
              "    </tr>\n",
              "    <tr>\n",
              "      <th>4</th>\n",
              "      <td>3808709</td>\n",
              "      <td>4.744932</td>\n",
              "      <td>Apartment</td>\n",
              "      <td>Entire home/apt</td>\n",
              "      <td>{TV,Internet,\"Wireless Internet\",\"Air conditio...</td>\n",
              "      <td>2</td>\n",
              "      <td>1.0</td>\n",
              "      <td>Real Bed</td>\n",
              "      <td>moderate</td>\n",
              "      <td>True</td>\n",
              "      <td>DC</td>\n",
              "      <td>Cool, cozy, and comfortable studio located in ...</td>\n",
              "      <td>2015-05-12</td>\n",
              "      <td>t</td>\n",
              "      <td>t</td>\n",
              "      <td>100%</td>\n",
              "      <td>2015-03-01</td>\n",
              "      <td>t</td>\n",
              "      <td>2017-01-22</td>\n",
              "      <td>38.925627</td>\n",
              "      <td>-77.034596</td>\n",
              "      <td>Great studio in midtown DC</td>\n",
              "      <td>Columbia Heights</td>\n",
              "      <td>4</td>\n",
              "      <td>40.0</td>\n",
              "      <td>NaN</td>\n",
              "      <td>20009</td>\n",
              "      <td>0.0</td>\n",
              "      <td>1.0</td>\n",
              "    </tr>\n",
              "  </tbody>\n",
              "</table>\n",
              "</div>"
            ],
            "text/plain": [
              "         id  log_price property_type  ...  zipcode bedrooms  beds\n",
              "0   6901257   5.010635     Apartment  ...    11201      1.0   1.0\n",
              "1   6304928   5.129899     Apartment  ...    10019      3.0   3.0\n",
              "2   7919400   4.976734     Apartment  ...    10027      1.0   3.0\n",
              "3  13418779   6.620073         House  ...  94117.0      2.0   2.0\n",
              "4   3808709   4.744932     Apartment  ...    20009      0.0   1.0\n",
              "\n",
              "[5 rows x 29 columns]"
            ]
          },
          "metadata": {
            "tags": []
          },
          "execution_count": 6
        }
      ]
    },
    {
      "cell_type": "code",
      "metadata": {
        "id": "3NR_HrjA2Dx2",
        "colab_type": "code",
        "colab": {}
      },
      "source": [
        "dataset = dataset.fillna(0)"
      ],
      "execution_count": 0,
      "outputs": []
    },
    {
      "cell_type": "code",
      "metadata": {
        "id": "EL7poFpKvri4",
        "colab_type": "code",
        "colab": {}
      },
      "source": [
        "dataset[['cleaning_fee']] = dataset[['cleaning_fee']].astype(int)\n"
      ],
      "execution_count": 0,
      "outputs": []
    },
    {
      "cell_type": "code",
      "metadata": {
        "id": "gUNhBNt_2c7R",
        "colab_type": "code",
        "colab": {}
      },
      "source": [
        "dataset[['host_identity_verified','instant_bookable']] = (dataset[['host_identity_verified','instant_bookable']] == 't').astype(int) "
      ],
      "execution_count": 0,
      "outputs": []
    },
    {
      "cell_type": "code",
      "metadata": {
        "id": "E7S3IOlltV61",
        "colab_type": "code",
        "colab": {}
      },
      "source": [
        "X = dataset.iloc[:,[2,3,5,6,8,9,14,17,23,24,27,28]].values\n",
        "Y = dataset.iloc[:,1].values"
      ],
      "execution_count": 0,
      "outputs": []
    },
    {
      "cell_type": "code",
      "metadata": {
        "id": "CwUJ7bnfRovj",
        "colab_type": "code",
        "colab": {}
      },
      "source": [
        "from sklearn.preprocessing import LabelEncoder, OneHotEncoder\n",
        "labelencoder1 = LabelEncoder()\n",
        "X[:,0] = labelencoder1.fit_transform(X[:,0])\n",
        "labelencoder2 = LabelEncoder()\n",
        "X[:,1] = labelencoder2.fit_transform(X[:,1])\n",
        "labelencoder3 = LabelEncoder()\n",
        "X[:,4] = labelencoder3.fit_transform(X[:,4])\n"
      ],
      "execution_count": 0,
      "outputs": []
    },
    {
      "cell_type": "code",
      "metadata": {
        "id": "BwP2IdkFtWsT",
        "colab_type": "code",
        "colab": {
          "base_uri": "https://localhost:8080/",
          "height": 33
        },
        "outputId": "71bbac69-317e-4c58-a4f2-a6312d8fa087"
      },
      "source": [
        "X[3]"
      ],
      "execution_count": 22,
      "outputs": [
        {
          "output_type": "execute_result",
          "data": {
            "text/plain": [
              "array([17, 0, 4, 1.0, 0, 1, 1, 0, 0, 0.0, 2.0, 2.0], dtype=object)"
            ]
          },
          "metadata": {
            "tags": []
          },
          "execution_count": 22
        }
      ]
    },
    {
      "cell_type": "code",
      "metadata": {
        "id": "vEYk59fpvzI-",
        "colab_type": "code",
        "colab": {}
      },
      "source": [
        "from sklearn.preprocessing import StandardScaler\n",
        "sc = StandardScaler()\n",
        "X = sc.fit_transform(X)"
      ],
      "execution_count": 0,
      "outputs": []
    },
    {
      "cell_type": "code",
      "metadata": {
        "id": "ZuTMc06XyJxg",
        "colab_type": "code",
        "outputId": "bf126e6c-1f68-4f58-fad0-a507f5415c69",
        "colab": {
          "base_uri": "https://localhost:8080/",
          "height": 67
        }
      },
      "source": [
        "X[3]"
      ],
      "execution_count": 24,
      "outputs": [
        {
          "output_type": "execute_result",
          "data": {
            "text/plain": [
              "array([ 1.30366109, -0.85067289,  0.39230329, -0.39661178, -1.32947177,\n",
              "        0.60187992,  0.69980585, -0.59653531, -0.55251017, -1.82470155,\n",
              "        0.8627925 ,  0.23277841])"
            ]
          },
          "metadata": {
            "tags": []
          },
          "execution_count": 24
        }
      ]
    },
    {
      "cell_type": "code",
      "metadata": {
        "id": "2mvpe8Xf7Gw8",
        "colab_type": "code",
        "colab": {
          "base_uri": "https://localhost:8080/",
          "height": 33
        },
        "outputId": "84419856-df65-4d66-d979-1157447c31c4"
      },
      "source": [
        "X.shape"
      ],
      "execution_count": 25,
      "outputs": [
        {
          "output_type": "execute_result",
          "data": {
            "text/plain": [
              "(74111, 12)"
            ]
          },
          "metadata": {
            "tags": []
          },
          "execution_count": 25
        }
      ]
    },
    {
      "cell_type": "code",
      "metadata": {
        "id": "hPOMTgDO9sDS",
        "colab_type": "code",
        "colab": {}
      },
      "source": [
        "from sklearn.model_selection import train_test_split\n",
        "X_train, X_test, Y_train, Y_test = train_test_split(X, Y, test_size=0.1, random_state=0)"
      ],
      "execution_count": 0,
      "outputs": []
    },
    {
      "cell_type": "code",
      "metadata": {
        "id": "f1XK74pNyQSP",
        "colab_type": "code",
        "colab": {}
      },
      "source": [
        "#model 1\n",
        "from keras.models import Sequential\n",
        "from keras.layers import Dense,Dropout\n",
        "\n",
        "regressor = Sequential()\n",
        "regressor.add(Dense(256, kernel_initializer='normal', input_dim = X.shape[1], activation = \"relu\"))\n",
        "regressor.add(Dropout(0.2))\n",
        "              \n",
        "#hidden layers\n",
        "regressor.add(Dense(units = 128,activation = \"relu\"))\n",
        "regressor.add(Dropout(0.2))\n",
        "\n",
        "regressor.add(Dense(units = 64,activation = \"relu\"))\n",
        "regressor.add(Dropout(0.2))\n",
        "\n",
        "regressor.add(Dense(units = 1,activation = \"linear\"))\n",
        "\n",
        "regressor.compile(optimizer = \"adam\", loss = \"mean_absolute_error\",metrics = [\"mean_absolute_error\"])\n",
        "\n",
        "regressor.fit(X_train,Y_train,batch_size = 32,epochs = 25,validation_data = (X_test,Y_test))\n"
      ],
      "execution_count": 0,
      "outputs": []
    },
    {
      "cell_type": "code",
      "metadata": {
        "id": "HQO39at5SDr2",
        "colab_type": "code",
        "colab": {
          "base_uri": "https://localhost:8080/",
          "height": 1241
        },
        "outputId": "9fa35c83-485b-4fed-a755-1ad0a647ba57"
      },
      "source": [
        "#model 2\n",
        "regressor = Sequential()\n",
        "regressor.add(Dense(512, kernel_initializer='normal', input_dim = X.shape[1], activation = \"relu\"))\n",
        "regressor.add(Dropout(0.2))\n",
        "              \n",
        "#hidden layers\n",
        "regressor.add(Dense(units = 256,activation = \"relu\"))\n",
        "regressor.add(Dropout(0.2))\n",
        "\n",
        "regressor.add(Dense(units = 128,activation = \"relu\"))\n",
        "regressor.add(Dropout(0.2))\n",
        "\n",
        "regressor.add(Dense(units = 64,activation = \"relu\"))\n",
        "regressor.add(Dropout(0.2))\n",
        "\n",
        "regressor.add(Dense(units = 1,activation = \"linear\"))\n",
        "\n",
        "regressor.compile(optimizer = \"adam\", loss = \"mean_absolute_error\",metrics = [\"mean_absolute_error\"])\n",
        "\n",
        "regressor.fit(X_train,Y_train,batch_size = 32,epochs = 35,validation_data = (X_test,Y_test))"
      ],
      "execution_count": 70,
      "outputs": [
        {
          "output_type": "stream",
          "text": [
            "Train on 66699 samples, validate on 7412 samples\n",
            "Epoch 1/35\n",
            "66699/66699 [==============================] - 23s 349us/step - loss: 0.6031 - mean_absolute_error: 0.6031 - val_loss: 0.3931 - val_mean_absolute_error: 0.3931\n",
            "Epoch 2/35\n",
            "66699/66699 [==============================] - 22s 327us/step - loss: 0.4824 - mean_absolute_error: 0.4824 - val_loss: 0.3778 - val_mean_absolute_error: 0.3778\n",
            "Epoch 3/35\n",
            "66699/66699 [==============================] - 34s 516us/step - loss: 0.4537 - mean_absolute_error: 0.4537 - val_loss: 0.3788 - val_mean_absolute_error: 0.3788\n",
            "Epoch 4/35\n",
            "66699/66699 [==============================] - 26s 396us/step - loss: 0.4364 - mean_absolute_error: 0.4364 - val_loss: 0.3761 - val_mean_absolute_error: 0.3761\n",
            "Epoch 5/35\n",
            "66699/66699 [==============================] - 33s 488us/step - loss: 0.4232 - mean_absolute_error: 0.4232 - val_loss: 0.3766 - val_mean_absolute_error: 0.3766\n",
            "Epoch 6/35\n",
            "66699/66699 [==============================] - 27s 401us/step - loss: 0.4146 - mean_absolute_error: 0.4146 - val_loss: 0.3747 - val_mean_absolute_error: 0.3747\n",
            "Epoch 7/35\n",
            "66699/66699 [==============================] - 31s 460us/step - loss: 0.4034 - mean_absolute_error: 0.4034 - val_loss: 0.3746 - val_mean_absolute_error: 0.3746\n",
            "Epoch 8/35\n",
            "66699/66699 [==============================] - 24s 355us/step - loss: 0.3975 - mean_absolute_error: 0.3975 - val_loss: 0.3715 - val_mean_absolute_error: 0.3715\n",
            "Epoch 9/35\n",
            "66699/66699 [==============================] - 26s 387us/step - loss: 0.3924 - mean_absolute_error: 0.3924 - val_loss: 0.3722 - val_mean_absolute_error: 0.3722\n",
            "Epoch 10/35\n",
            "66699/66699 [==============================] - 21s 310us/step - loss: 0.3866 - mean_absolute_error: 0.3866 - val_loss: 0.3735 - val_mean_absolute_error: 0.3735\n",
            "Epoch 11/35\n",
            "66699/66699 [==============================] - 18s 267us/step - loss: 0.3829 - mean_absolute_error: 0.3829 - val_loss: 0.3722 - val_mean_absolute_error: 0.3722\n",
            "Epoch 12/35\n",
            "66699/66699 [==============================] - 27s 411us/step - loss: 0.3783 - mean_absolute_error: 0.3783 - val_loss: 0.3736 - val_mean_absolute_error: 0.3736\n",
            "Epoch 13/35\n",
            "66699/66699 [==============================] - 30s 455us/step - loss: 0.3756 - mean_absolute_error: 0.3756 - val_loss: 0.3724 - val_mean_absolute_error: 0.3724\n",
            "Epoch 14/35\n",
            "66699/66699 [==============================] - 30s 454us/step - loss: 0.3738 - mean_absolute_error: 0.3738 - val_loss: 0.3694 - val_mean_absolute_error: 0.3694\n",
            "Epoch 15/35\n",
            "66699/66699 [==============================] - 11s 170us/step - loss: 0.3729 - mean_absolute_error: 0.3729 - val_loss: 0.3691 - val_mean_absolute_error: 0.3691\n",
            "Epoch 16/35\n",
            "66699/66699 [==============================] - 20s 302us/step - loss: 0.3706 - mean_absolute_error: 0.3706 - val_loss: 0.3738 - val_mean_absolute_error: 0.3738\n",
            "Epoch 17/35\n",
            "66699/66699 [==============================] - 25s 370us/step - loss: 0.3702 - mean_absolute_error: 0.3702 - val_loss: 0.3720 - val_mean_absolute_error: 0.3720\n",
            "Epoch 18/35\n",
            "66699/66699 [==============================] - 17s 253us/step - loss: 0.3697 - mean_absolute_error: 0.3697 - val_loss: 0.3726 - val_mean_absolute_error: 0.3726\n",
            "Epoch 19/35\n",
            "66699/66699 [==============================] - 14s 214us/step - loss: 0.3681 - mean_absolute_error: 0.3681 - val_loss: 0.3690 - val_mean_absolute_error: 0.3690\n",
            "Epoch 20/35\n",
            "66699/66699 [==============================] - 26s 395us/step - loss: 0.3683 - mean_absolute_error: 0.3683 - val_loss: 0.3695 - val_mean_absolute_error: 0.3695\n",
            "Epoch 21/35\n",
            "66699/66699 [==============================] - 29s 434us/step - loss: 0.3680 - mean_absolute_error: 0.3680 - val_loss: 0.3690 - val_mean_absolute_error: 0.3690\n",
            "Epoch 22/35\n",
            "66699/66699 [==============================] - 12s 176us/step - loss: 0.3678 - mean_absolute_error: 0.3678 - val_loss: 0.3697 - val_mean_absolute_error: 0.3697\n",
            "Epoch 23/35\n",
            "66699/66699 [==============================] - 19s 292us/step - loss: 0.3676 - mean_absolute_error: 0.3676 - val_loss: 0.3707 - val_mean_absolute_error: 0.3707\n",
            "Epoch 24/35\n",
            "66699/66699 [==============================] - 15s 228us/step - loss: 0.3672 - mean_absolute_error: 0.3672 - val_loss: 0.3733 - val_mean_absolute_error: 0.3733\n",
            "Epoch 25/35\n",
            "66699/66699 [==============================] - 14s 211us/step - loss: 0.3675 - mean_absolute_error: 0.3675 - val_loss: 0.3720 - val_mean_absolute_error: 0.3720\n",
            "Epoch 26/35\n",
            "66699/66699 [==============================] - 12s 182us/step - loss: 0.3674 - mean_absolute_error: 0.3674 - val_loss: 0.3719 - val_mean_absolute_error: 0.3719\n",
            "Epoch 27/35\n",
            "66699/66699 [==============================] - 16s 240us/step - loss: 0.3664 - mean_absolute_error: 0.3664 - val_loss: 0.3708 - val_mean_absolute_error: 0.3708\n",
            "Epoch 28/35\n",
            "66699/66699 [==============================] - 16s 247us/step - loss: 0.3671 - mean_absolute_error: 0.3671 - val_loss: 0.3683 - val_mean_absolute_error: 0.3683\n",
            "Epoch 29/35\n",
            "66699/66699 [==============================] - 13s 195us/step - loss: 0.3669 - mean_absolute_error: 0.3669 - val_loss: 0.3745 - val_mean_absolute_error: 0.3745\n",
            "Epoch 30/35\n",
            "66699/66699 [==============================] - 18s 271us/step - loss: 0.3669 - mean_absolute_error: 0.3669 - val_loss: 0.3734 - val_mean_absolute_error: 0.3734\n",
            "Epoch 31/35\n",
            "66699/66699 [==============================] - 17s 251us/step - loss: 0.3672 - mean_absolute_error: 0.3672 - val_loss: 0.3712 - val_mean_absolute_error: 0.3712\n",
            "Epoch 32/35\n",
            "66699/66699 [==============================] - 22s 335us/step - loss: 0.3658 - mean_absolute_error: 0.3658 - val_loss: 0.3730 - val_mean_absolute_error: 0.3730\n",
            "Epoch 33/35\n",
            "66699/66699 [==============================] - 15s 223us/step - loss: 0.3661 - mean_absolute_error: 0.3661 - val_loss: 0.3702 - val_mean_absolute_error: 0.3702\n",
            "Epoch 34/35\n",
            "66699/66699 [==============================] - 17s 260us/step - loss: 0.3660 - mean_absolute_error: 0.3660 - val_loss: 0.3707 - val_mean_absolute_error: 0.3707\n",
            "Epoch 35/35\n",
            "66699/66699 [==============================] - 14s 209us/step - loss: 0.3651 - mean_absolute_error: 0.3651 - val_loss: 0.3740 - val_mean_absolute_error: 0.3740\n"
          ],
          "name": "stdout"
        },
        {
          "output_type": "execute_result",
          "data": {
            "text/plain": [
              "<keras.callbacks.History at 0x7f5042a0e0b8>"
            ]
          },
          "metadata": {
            "tags": []
          },
          "execution_count": 70
        }
      ]
    },
    {
      "cell_type": "code",
      "metadata": {
        "id": "7jr9BjlAETyQ",
        "colab_type": "code",
        "outputId": "e2a9bccb-2ce4-4725-84fd-f55748a19bd8",
        "colab": {
          "base_uri": "https://localhost:8080/",
          "height": 100
        }
      },
      "source": [
        "regressor.predict(X[0:5,:])"
      ],
      "execution_count": 71,
      "outputs": [
        {
          "output_type": "execute_result",
          "data": {
            "text/plain": [
              "array([[5.0107875],\n",
              "       [5.309187 ],\n",
              "       [4.881216 ],\n",
              "       [5.150697 ],\n",
              "       [4.709445 ]], dtype=float32)"
            ]
          },
          "metadata": {
            "tags": []
          },
          "execution_count": 71
        }
      ]
    },
    {
      "cell_type": "code",
      "metadata": {
        "id": "XhsotBanGlEp",
        "colab_type": "code",
        "colab": {
          "base_uri": "https://localhost:8080/",
          "height": 134
        },
        "outputId": "728a976a-6598-466c-a90f-a18f1b9bf139"
      },
      "source": [
        "regressor.predict(X_test)"
      ],
      "execution_count": 72,
      "outputs": [
        {
          "output_type": "execute_result",
          "data": {
            "text/plain": [
              "array([[5.1576433],\n",
              "       [4.945154 ],\n",
              "       [4.3945646],\n",
              "       ...,\n",
              "       [4.855028 ],\n",
              "       [6.082535 ],\n",
              "       [4.885177 ]], dtype=float32)"
            ]
          },
          "metadata": {
            "tags": []
          },
          "execution_count": 72
        }
      ]
    },
    {
      "cell_type": "code",
      "metadata": {
        "id": "TcRHw1CBMeOg",
        "colab_type": "code",
        "colab": {}
      },
      "source": [
        "Y_test = Y_test.reshape(7412,1)"
      ],
      "execution_count": 0,
      "outputs": []
    },
    {
      "cell_type": "code",
      "metadata": {
        "id": "yKxSR3hpHfkB",
        "colab_type": "code",
        "colab": {}
      },
      "source": [
        "ans = (regressor.predict(X_test)-Y_test)"
      ],
      "execution_count": 0,
      "outputs": []
    },
    {
      "cell_type": "code",
      "metadata": {
        "id": "4ns8mvB3HkDR",
        "colab_type": "code",
        "colab": {
          "base_uri": "https://localhost:8080/",
          "height": 134
        },
        "outputId": "0ead6ee9-21bf-4c21-e73b-52d5eb15b9ce"
      },
      "source": [
        "print(ans)"
      ],
      "execution_count": 78,
      "outputs": [
        {
          "output_type": "stream",
          "text": [
            "[[ 0.55247313]\n",
            " [-0.0654811 ]\n",
            " [ 0.31702718]\n",
            " ...\n",
            " [-0.12170559]\n",
            " [-0.22738349]\n",
            " [-0.54854487]]\n"
          ],
          "name": "stdout"
        }
      ]
    },
    {
      "cell_type": "code",
      "metadata": {
        "id": "TpwTeMKrEaIE",
        "colab_type": "code",
        "colab": {
          "base_uri": "https://localhost:8080/",
          "height": 50
        },
        "outputId": "b8450458-3063-492a-ccc6-79b65d4659c9"
      },
      "source": [
        "print(\"Mean absolute error\")\n",
        "print(np.sum(abs(ans),axis = 0)/X_test.shape[0])"
      ],
      "execution_count": 79,
      "outputs": [
        {
          "output_type": "stream",
          "text": [
            "Mean absolute error\n",
            "[0.37402977]\n"
          ],
          "name": "stdout"
        }
      ]
    },
    {
      "cell_type": "code",
      "metadata": {
        "id": "Uy6rv0KSbNG1",
        "colab_type": "code",
        "colab": {}
      },
      "source": [
        ""
      ],
      "execution_count": 0,
      "outputs": []
    }
  ]
}